{
  "nbformat": 4,
  "nbformat_minor": 0,
  "metadata": {
    "colab": {
      "provenance": [],
      "authorship_tag": "ABX9TyNUJHfP4Xyizlbk+rYkgp04",
      "include_colab_link": true
    },
    "kernelspec": {
      "name": "python3",
      "display_name": "Python 3"
    },
    "language_info": {
      "name": "python"
    }
  },
  "cells": [
    {
      "cell_type": "markdown",
      "metadata": {
        "id": "view-in-github",
        "colab_type": "text"
      },
      "source": [
        "<a href=\"https://colab.research.google.com/github/RODIV45/Data-Analysis-with-Python-GFG/blob/main/pandas2.ipynb\" target=\"_parent\"><img src=\"https://colab.research.google.com/assets/colab-badge.svg\" alt=\"Open In Colab\"/></a>"
      ]
    },
    {
      "cell_type": "code",
      "execution_count": 56,
      "metadata": {
        "colab": {
          "base_uri": "https://localhost:8080/"
        },
        "id": "raFQFfq6d_LJ",
        "outputId": "79cdf329-e13f-4e85-af64-234f724cd459"
      },
      "outputs": [
        {
          "output_type": "stream",
          "name": "stdout",
          "text": [
            "Drive already mounted at /content/drive; to attempt to forcibly remount, call drive.mount(\"/content/drive\", force_remount=True).\n"
          ]
        }
      ],
      "source": [
        "from google.colab import drive\n",
        "drive.mount('/content/drive')"
      ]
    },
    {
      "cell_type": "code",
      "source": [
        "import pandas as pd"
      ],
      "metadata": {
        "id": "kditRgvRecHJ"
      },
      "execution_count": 57,
      "outputs": []
    },
    {
      "cell_type": "code",
      "source": [
        "path=\"/content/drive/MyDrive/airports.csv\"\n",
        "df=pd.read_csv(path)\n",
        "df.dropna()\n"
      ],
      "metadata": {
        "colab": {
          "base_uri": "https://localhost:8080/",
          "height": 1000
        },
        "id": "8tDUli22e3p1",
        "outputId": "f254ee7c-8ecf-4e80-a87e-87edd6c7a7cb"
      },
      "execution_count": 58,
      "outputs": [
        {
          "output_type": "execute_result",
          "data": {
            "text/plain": [
              "           id ident            type  \\\n",
              "21082   44483  DTNH  medium_airport   \n",
              "30286  323221   JJD  medium_airport   \n",
              "40110    4307  LIAP   small_airport   \n",
              "40116    4309  LIBC  medium_airport   \n",
              "40117    4310  LIBD   large_airport   \n",
              "...       ...   ...             ...   \n",
              "59332     575  SWRD  medium_airport   \n",
              "61067    6425  UAFL  medium_airport   \n",
              "70349   26633  VRMG  medium_airport   \n",
              "70798   26762  WALR  medium_airport   \n",
              "71098  310599  WIPI   small_airport   \n",
              "\n",
              "                                                    name  latitude_deg  \\\n",
              "21082           Enfidha - Hammamet International Airport     36.075833   \n",
              "30286  Jericoacoara - Comandante Ariston Pessoa Regio...     -2.906425   \n",
              "40110                           L'Aquila–Preturo Airport     42.379902   \n",
              "40116                                    Crotone Airport     38.997200   \n",
              "40117                         Bari Karol Wojtyła Airport     41.138901   \n",
              "...                                                  ...           ...   \n",
              "59332                     Maestro Marinho Franco Airport    -16.584292   \n",
              "61067                    Issyk-Kul International Airport     42.585584   \n",
              "70349                          Gan International Airport     -0.693342   \n",
              "70798  Juwata International Airport / Suharnoko Harba...      3.325145   \n",
              "71098                                Muara Bungo Airport     -1.127800   \n",
              "\n",
              "       longitude_deg  elevation_ft continent iso_country iso_region  \\\n",
              "21082      10.438611          21.0        AF          TN      TN-51   \n",
              "30286     -40.357338          89.0        SA          BR      BR-CE   \n",
              "40110      13.309200        2211.0        EU          IT      IT-65   \n",
              "40116      17.080200         522.0        EU          IT      IT-78   \n",
              "40117      16.760599         177.0        EU          IT      IT-75   \n",
              "...              ...           ...       ...         ...        ...   \n",
              "59332     -54.724803        1467.0        SA          BR      BR-MT   \n",
              "61067      76.701181        5425.0        AS          KG       KG-Y   \n",
              "70349      73.155602           6.0        AS          MV      MV-01   \n",
              "70798     117.564169          23.0        AS          ID      ID-KU   \n",
              "71098     102.135000         214.0        AS          ID      ID-JA   \n",
              "\n",
              "       municipality scheduled_service gps_code iata_code local_code  \\\n",
              "21082       Enfidha               yes     DTNH       NBE       DTNH   \n",
              "30286          Cruz               yes     SBJE       JJD     CE0003   \n",
              "40110      L'Aquila                no     LIAP       QAQ       AQ03   \n",
              "40116       Crotone               yes     LIBC       CRV       KR01   \n",
              "40117          Bari               yes     LIBD       BRI       BA02   \n",
              "...             ...               ...      ...       ...        ...   \n",
              "59332  Rondonópolis               yes     SBRD       ROO     MT0004   \n",
              "61067        Tamchy               yes     UCFL       IKU        IKU   \n",
              "70349           Gan               yes     VRMG       GAN         MV   \n",
              "70798       Tarakan               yes     WAQQ       TRK        TRK   \n",
              "71098   Muara Bungo               yes     WIPI       BUU     MRBMWS   \n",
              "\n",
              "                                               home_link  \\\n",
              "21082             http://www.enfidhahammametairport.com/   \n",
              "30286  https://www-jericoacoara-com.translate.goog/br...   \n",
              "40110                  http://www.aeroportodeiparchi.it/   \n",
              "40116    http://www.aeroporto.kr.it/cartaservizi_eng.asp   \n",
              "40117  http://www.seap-puglia.it/default.asp?idlingua...   \n",
              "...                                                  ...   \n",
              "59332  http://www.rondonopolis.mt.gov.br/orgaos-munic...   \n",
              "61067  http://www.airport.kg/index.php?option=com_con...   \n",
              "70349        http://www.airports.com.mv/domestic/gan.htm   \n",
              "70798                     http://www.tarakan-airport.com   \n",
              "71098  http://www.infobungo.com/2012/12/jadwal-penerb...   \n",
              "\n",
              "                                          wikipedia_link  \\\n",
              "21082  https://en.wikipedia.org/wiki/Enfidha%E2%80%93...   \n",
              "30286  https://en.wikipedia.org/wiki/Jericoacoara_air...   \n",
              "40110  https://en.wikipedia.org/wiki/L%27Aquila%E2%80...   \n",
              "40116      https://en.wikipedia.org/wiki/Crotone_Airport   \n",
              "40117  https://en.wikipedia.org/wiki/Bari_Karol_Wojty...   \n",
              "...                                                  ...   \n",
              "59332  https://en.wikipedia.org/wiki/Rondon%C3%B3poli...   \n",
              "61067       https://en.wikipedia.org/wiki/Tamchy_Airport   \n",
              "70349  https://en.wikipedia.org/wiki/Gan_Internationa...   \n",
              "70798       https://en.wikipedia.org/wiki/Juwata_Airport   \n",
              "71098  https://en.wikipedia.org/wiki/Muara_Bungo_Airport   \n",
              "\n",
              "                                                keywords  \n",
              "21082                                               DTNH  \n",
              "30286                                 SSVV, Jericoacoara  \n",
              "40110  Parchi Airport, Preturo Airport, Aeroporto dei...  \n",
              "40116                                  Sant'Anna Airport  \n",
              "40117  Bari \"Karol Wojtyla\" International Airport, Pa...  \n",
              "...                                                  ...  \n",
              "59332                         SWRD, Rondonópolis Airport  \n",
              "61067  UAFL, Issyk-Kul Airport, Chok-Tal Airport, Аэр...  \n",
              "70349                   Gan Airport, Addu City, Maldives  \n",
              "70798             WRLR, WALR, WAQQ, TRK, JUWATA, TARAKAN  \n",
              "71098                                       Pasir Mayang  \n",
              "\n",
              "[73 rows x 18 columns]"
            ],
            "text/html": [
              "\n",
              "  <div id=\"df-14ab84ec-114b-42be-9027-500894c29acd\">\n",
              "    <div class=\"colab-df-container\">\n",
              "      <div>\n",
              "<style scoped>\n",
              "    .dataframe tbody tr th:only-of-type {\n",
              "        vertical-align: middle;\n",
              "    }\n",
              "\n",
              "    .dataframe tbody tr th {\n",
              "        vertical-align: top;\n",
              "    }\n",
              "\n",
              "    .dataframe thead th {\n",
              "        text-align: right;\n",
              "    }\n",
              "</style>\n",
              "<table border=\"1\" class=\"dataframe\">\n",
              "  <thead>\n",
              "    <tr style=\"text-align: right;\">\n",
              "      <th></th>\n",
              "      <th>id</th>\n",
              "      <th>ident</th>\n",
              "      <th>type</th>\n",
              "      <th>name</th>\n",
              "      <th>latitude_deg</th>\n",
              "      <th>longitude_deg</th>\n",
              "      <th>elevation_ft</th>\n",
              "      <th>continent</th>\n",
              "      <th>iso_country</th>\n",
              "      <th>iso_region</th>\n",
              "      <th>municipality</th>\n",
              "      <th>scheduled_service</th>\n",
              "      <th>gps_code</th>\n",
              "      <th>iata_code</th>\n",
              "      <th>local_code</th>\n",
              "      <th>home_link</th>\n",
              "      <th>wikipedia_link</th>\n",
              "      <th>keywords</th>\n",
              "    </tr>\n",
              "  </thead>\n",
              "  <tbody>\n",
              "    <tr>\n",
              "      <th>21082</th>\n",
              "      <td>44483</td>\n",
              "      <td>DTNH</td>\n",
              "      <td>medium_airport</td>\n",
              "      <td>Enfidha - Hammamet International Airport</td>\n",
              "      <td>36.075833</td>\n",
              "      <td>10.438611</td>\n",
              "      <td>21.0</td>\n",
              "      <td>AF</td>\n",
              "      <td>TN</td>\n",
              "      <td>TN-51</td>\n",
              "      <td>Enfidha</td>\n",
              "      <td>yes</td>\n",
              "      <td>DTNH</td>\n",
              "      <td>NBE</td>\n",
              "      <td>DTNH</td>\n",
              "      <td>http://www.enfidhahammametairport.com/</td>\n",
              "      <td>https://en.wikipedia.org/wiki/Enfidha%E2%80%93...</td>\n",
              "      <td>DTNH</td>\n",
              "    </tr>\n",
              "    <tr>\n",
              "      <th>30286</th>\n",
              "      <td>323221</td>\n",
              "      <td>JJD</td>\n",
              "      <td>medium_airport</td>\n",
              "      <td>Jericoacoara - Comandante Ariston Pessoa Regio...</td>\n",
              "      <td>-2.906425</td>\n",
              "      <td>-40.357338</td>\n",
              "      <td>89.0</td>\n",
              "      <td>SA</td>\n",
              "      <td>BR</td>\n",
              "      <td>BR-CE</td>\n",
              "      <td>Cruz</td>\n",
              "      <td>yes</td>\n",
              "      <td>SBJE</td>\n",
              "      <td>JJD</td>\n",
              "      <td>CE0003</td>\n",
              "      <td>https://www-jericoacoara-com.translate.goog/br...</td>\n",
              "      <td>https://en.wikipedia.org/wiki/Jericoacoara_air...</td>\n",
              "      <td>SSVV, Jericoacoara</td>\n",
              "    </tr>\n",
              "    <tr>\n",
              "      <th>40110</th>\n",
              "      <td>4307</td>\n",
              "      <td>LIAP</td>\n",
              "      <td>small_airport</td>\n",
              "      <td>L'Aquila–Preturo Airport</td>\n",
              "      <td>42.379902</td>\n",
              "      <td>13.309200</td>\n",
              "      <td>2211.0</td>\n",
              "      <td>EU</td>\n",
              "      <td>IT</td>\n",
              "      <td>IT-65</td>\n",
              "      <td>L'Aquila</td>\n",
              "      <td>no</td>\n",
              "      <td>LIAP</td>\n",
              "      <td>QAQ</td>\n",
              "      <td>AQ03</td>\n",
              "      <td>http://www.aeroportodeiparchi.it/</td>\n",
              "      <td>https://en.wikipedia.org/wiki/L%27Aquila%E2%80...</td>\n",
              "      <td>Parchi Airport, Preturo Airport, Aeroporto dei...</td>\n",
              "    </tr>\n",
              "    <tr>\n",
              "      <th>40116</th>\n",
              "      <td>4309</td>\n",
              "      <td>LIBC</td>\n",
              "      <td>medium_airport</td>\n",
              "      <td>Crotone Airport</td>\n",
              "      <td>38.997200</td>\n",
              "      <td>17.080200</td>\n",
              "      <td>522.0</td>\n",
              "      <td>EU</td>\n",
              "      <td>IT</td>\n",
              "      <td>IT-78</td>\n",
              "      <td>Crotone</td>\n",
              "      <td>yes</td>\n",
              "      <td>LIBC</td>\n",
              "      <td>CRV</td>\n",
              "      <td>KR01</td>\n",
              "      <td>http://www.aeroporto.kr.it/cartaservizi_eng.asp</td>\n",
              "      <td>https://en.wikipedia.org/wiki/Crotone_Airport</td>\n",
              "      <td>Sant'Anna Airport</td>\n",
              "    </tr>\n",
              "    <tr>\n",
              "      <th>40117</th>\n",
              "      <td>4310</td>\n",
              "      <td>LIBD</td>\n",
              "      <td>large_airport</td>\n",
              "      <td>Bari Karol Wojtyła Airport</td>\n",
              "      <td>41.138901</td>\n",
              "      <td>16.760599</td>\n",
              "      <td>177.0</td>\n",
              "      <td>EU</td>\n",
              "      <td>IT</td>\n",
              "      <td>IT-75</td>\n",
              "      <td>Bari</td>\n",
              "      <td>yes</td>\n",
              "      <td>LIBD</td>\n",
              "      <td>BRI</td>\n",
              "      <td>BA02</td>\n",
              "      <td>http://www.seap-puglia.it/default.asp?idlingua...</td>\n",
              "      <td>https://en.wikipedia.org/wiki/Bari_Karol_Wojty...</td>\n",
              "      <td>Bari \"Karol Wojtyla\" International Airport, Pa...</td>\n",
              "    </tr>\n",
              "    <tr>\n",
              "      <th>...</th>\n",
              "      <td>...</td>\n",
              "      <td>...</td>\n",
              "      <td>...</td>\n",
              "      <td>...</td>\n",
              "      <td>...</td>\n",
              "      <td>...</td>\n",
              "      <td>...</td>\n",
              "      <td>...</td>\n",
              "      <td>...</td>\n",
              "      <td>...</td>\n",
              "      <td>...</td>\n",
              "      <td>...</td>\n",
              "      <td>...</td>\n",
              "      <td>...</td>\n",
              "      <td>...</td>\n",
              "      <td>...</td>\n",
              "      <td>...</td>\n",
              "      <td>...</td>\n",
              "    </tr>\n",
              "    <tr>\n",
              "      <th>59332</th>\n",
              "      <td>575</td>\n",
              "      <td>SWRD</td>\n",
              "      <td>medium_airport</td>\n",
              "      <td>Maestro Marinho Franco Airport</td>\n",
              "      <td>-16.584292</td>\n",
              "      <td>-54.724803</td>\n",
              "      <td>1467.0</td>\n",
              "      <td>SA</td>\n",
              "      <td>BR</td>\n",
              "      <td>BR-MT</td>\n",
              "      <td>Rondonópolis</td>\n",
              "      <td>yes</td>\n",
              "      <td>SBRD</td>\n",
              "      <td>ROO</td>\n",
              "      <td>MT0004</td>\n",
              "      <td>http://www.rondonopolis.mt.gov.br/orgaos-munic...</td>\n",
              "      <td>https://en.wikipedia.org/wiki/Rondon%C3%B3poli...</td>\n",
              "      <td>SWRD, Rondonópolis Airport</td>\n",
              "    </tr>\n",
              "    <tr>\n",
              "      <th>61067</th>\n",
              "      <td>6425</td>\n",
              "      <td>UAFL</td>\n",
              "      <td>medium_airport</td>\n",
              "      <td>Issyk-Kul International Airport</td>\n",
              "      <td>42.585584</td>\n",
              "      <td>76.701181</td>\n",
              "      <td>5425.0</td>\n",
              "      <td>AS</td>\n",
              "      <td>KG</td>\n",
              "      <td>KG-Y</td>\n",
              "      <td>Tamchy</td>\n",
              "      <td>yes</td>\n",
              "      <td>UCFL</td>\n",
              "      <td>IKU</td>\n",
              "      <td>IKU</td>\n",
              "      <td>http://www.airport.kg/index.php?option=com_con...</td>\n",
              "      <td>https://en.wikipedia.org/wiki/Tamchy_Airport</td>\n",
              "      <td>UAFL, Issyk-Kul Airport, Chok-Tal Airport, Аэр...</td>\n",
              "    </tr>\n",
              "    <tr>\n",
              "      <th>70349</th>\n",
              "      <td>26633</td>\n",
              "      <td>VRMG</td>\n",
              "      <td>medium_airport</td>\n",
              "      <td>Gan International Airport</td>\n",
              "      <td>-0.693342</td>\n",
              "      <td>73.155602</td>\n",
              "      <td>6.0</td>\n",
              "      <td>AS</td>\n",
              "      <td>MV</td>\n",
              "      <td>MV-01</td>\n",
              "      <td>Gan</td>\n",
              "      <td>yes</td>\n",
              "      <td>VRMG</td>\n",
              "      <td>GAN</td>\n",
              "      <td>MV</td>\n",
              "      <td>http://www.airports.com.mv/domestic/gan.htm</td>\n",
              "      <td>https://en.wikipedia.org/wiki/Gan_Internationa...</td>\n",
              "      <td>Gan Airport, Addu City, Maldives</td>\n",
              "    </tr>\n",
              "    <tr>\n",
              "      <th>70798</th>\n",
              "      <td>26762</td>\n",
              "      <td>WALR</td>\n",
              "      <td>medium_airport</td>\n",
              "      <td>Juwata International Airport / Suharnoko Harba...</td>\n",
              "      <td>3.325145</td>\n",
              "      <td>117.564169</td>\n",
              "      <td>23.0</td>\n",
              "      <td>AS</td>\n",
              "      <td>ID</td>\n",
              "      <td>ID-KU</td>\n",
              "      <td>Tarakan</td>\n",
              "      <td>yes</td>\n",
              "      <td>WAQQ</td>\n",
              "      <td>TRK</td>\n",
              "      <td>TRK</td>\n",
              "      <td>http://www.tarakan-airport.com</td>\n",
              "      <td>https://en.wikipedia.org/wiki/Juwata_Airport</td>\n",
              "      <td>WRLR, WALR, WAQQ, TRK, JUWATA, TARAKAN</td>\n",
              "    </tr>\n",
              "    <tr>\n",
              "      <th>71098</th>\n",
              "      <td>310599</td>\n",
              "      <td>WIPI</td>\n",
              "      <td>small_airport</td>\n",
              "      <td>Muara Bungo Airport</td>\n",
              "      <td>-1.127800</td>\n",
              "      <td>102.135000</td>\n",
              "      <td>214.0</td>\n",
              "      <td>AS</td>\n",
              "      <td>ID</td>\n",
              "      <td>ID-JA</td>\n",
              "      <td>Muara Bungo</td>\n",
              "      <td>yes</td>\n",
              "      <td>WIPI</td>\n",
              "      <td>BUU</td>\n",
              "      <td>MRBMWS</td>\n",
              "      <td>http://www.infobungo.com/2012/12/jadwal-penerb...</td>\n",
              "      <td>https://en.wikipedia.org/wiki/Muara_Bungo_Airport</td>\n",
              "      <td>Pasir Mayang</td>\n",
              "    </tr>\n",
              "  </tbody>\n",
              "</table>\n",
              "<p>73 rows × 18 columns</p>\n",
              "</div>\n",
              "      <button class=\"colab-df-convert\" onclick=\"convertToInteractive('df-14ab84ec-114b-42be-9027-500894c29acd')\"\n",
              "              title=\"Convert this dataframe to an interactive table.\"\n",
              "              style=\"display:none;\">\n",
              "        \n",
              "  <svg xmlns=\"http://www.w3.org/2000/svg\" height=\"24px\"viewBox=\"0 0 24 24\"\n",
              "       width=\"24px\">\n",
              "    <path d=\"M0 0h24v24H0V0z\" fill=\"none\"/>\n",
              "    <path d=\"M18.56 5.44l.94 2.06.94-2.06 2.06-.94-2.06-.94-.94-2.06-.94 2.06-2.06.94zm-11 1L8.5 8.5l.94-2.06 2.06-.94-2.06-.94L8.5 2.5l-.94 2.06-2.06.94zm10 10l.94 2.06.94-2.06 2.06-.94-2.06-.94-.94-2.06-.94 2.06-2.06.94z\"/><path d=\"M17.41 7.96l-1.37-1.37c-.4-.4-.92-.59-1.43-.59-.52 0-1.04.2-1.43.59L10.3 9.45l-7.72 7.72c-.78.78-.78 2.05 0 2.83L4 21.41c.39.39.9.59 1.41.59.51 0 1.02-.2 1.41-.59l7.78-7.78 2.81-2.81c.8-.78.8-2.07 0-2.86zM5.41 20L4 18.59l7.72-7.72 1.47 1.35L5.41 20z\"/>\n",
              "  </svg>\n",
              "      </button>\n",
              "      \n",
              "  <style>\n",
              "    .colab-df-container {\n",
              "      display:flex;\n",
              "      flex-wrap:wrap;\n",
              "      gap: 12px;\n",
              "    }\n",
              "\n",
              "    .colab-df-convert {\n",
              "      background-color: #E8F0FE;\n",
              "      border: none;\n",
              "      border-radius: 50%;\n",
              "      cursor: pointer;\n",
              "      display: none;\n",
              "      fill: #1967D2;\n",
              "      height: 32px;\n",
              "      padding: 0 0 0 0;\n",
              "      width: 32px;\n",
              "    }\n",
              "\n",
              "    .colab-df-convert:hover {\n",
              "      background-color: #E2EBFA;\n",
              "      box-shadow: 0px 1px 2px rgba(60, 64, 67, 0.3), 0px 1px 3px 1px rgba(60, 64, 67, 0.15);\n",
              "      fill: #174EA6;\n",
              "    }\n",
              "\n",
              "    [theme=dark] .colab-df-convert {\n",
              "      background-color: #3B4455;\n",
              "      fill: #D2E3FC;\n",
              "    }\n",
              "\n",
              "    [theme=dark] .colab-df-convert:hover {\n",
              "      background-color: #434B5C;\n",
              "      box-shadow: 0px 1px 3px 1px rgba(0, 0, 0, 0.15);\n",
              "      filter: drop-shadow(0px 1px 2px rgba(0, 0, 0, 0.3));\n",
              "      fill: #FFFFFF;\n",
              "    }\n",
              "  </style>\n",
              "\n",
              "      <script>\n",
              "        const buttonEl =\n",
              "          document.querySelector('#df-14ab84ec-114b-42be-9027-500894c29acd button.colab-df-convert');\n",
              "        buttonEl.style.display =\n",
              "          google.colab.kernel.accessAllowed ? 'block' : 'none';\n",
              "\n",
              "        async function convertToInteractive(key) {\n",
              "          const element = document.querySelector('#df-14ab84ec-114b-42be-9027-500894c29acd');\n",
              "          const dataTable =\n",
              "            await google.colab.kernel.invokeFunction('convertToInteractive',\n",
              "                                                     [key], {});\n",
              "          if (!dataTable) return;\n",
              "\n",
              "          const docLinkHtml = 'Like what you see? Visit the ' +\n",
              "            '<a target=\"_blank\" href=https://colab.research.google.com/notebooks/data_table.ipynb>data table notebook</a>'\n",
              "            + ' to learn more about interactive tables.';\n",
              "          element.innerHTML = '';\n",
              "          dataTable['output_type'] = 'display_data';\n",
              "          await google.colab.output.renderOutput(dataTable, element);\n",
              "          const docLink = document.createElement('div');\n",
              "          docLink.innerHTML = docLinkHtml;\n",
              "          element.appendChild(docLink);\n",
              "        }\n",
              "      </script>\n",
              "    </div>\n",
              "  </div>\n",
              "  "
            ]
          },
          "metadata": {},
          "execution_count": 58
        }
      ]
    },
    {
      "cell_type": "code",
      "source": [
        "for i in df['type'].unique():\n",
        "  print(i)\n"
      ],
      "metadata": {
        "colab": {
          "base_uri": "https://localhost:8080/"
        },
        "id": "Di4qVr5XhAL-",
        "outputId": "ea65a620-6b9f-4e7c-e77b-363a58aea88d"
      },
      "execution_count": 59,
      "outputs": [
        {
          "output_type": "stream",
          "name": "stdout",
          "text": [
            "heliport\n",
            "small_airport\n",
            "closed\n",
            "seaplane_base\n",
            "balloonport\n",
            "medium_airport\n",
            "large_airport\n"
          ]
        }
      ]
    },
    {
      "cell_type": "code",
      "source": [
        "df['type'].unique()"
      ],
      "metadata": {
        "colab": {
          "base_uri": "https://localhost:8080/"
        },
        "id": "7jswaU4RkPaf",
        "outputId": "d647f9b0-9ade-4ba7-b37b-a3ea8723b0c8"
      },
      "execution_count": 60,
      "outputs": [
        {
          "output_type": "execute_result",
          "data": {
            "text/plain": [
              "array(['heliport', 'small_airport', 'closed', 'seaplane_base',\n",
              "       'balloonport', 'medium_airport', 'large_airport'], dtype=object)"
            ]
          },
          "metadata": {},
          "execution_count": 60
        }
      ]
    },
    {
      "cell_type": "code",
      "source": [
        "print(\"There are\",len(df['type'].unique()),\"types of airports\")"
      ],
      "metadata": {
        "colab": {
          "base_uri": "https://localhost:8080/"
        },
        "id": "BDeLU34xksZu",
        "outputId": "8489692e-37c2-4a7e-8b73-6d510b222d0a"
      },
      "execution_count": 61,
      "outputs": [
        {
          "output_type": "stream",
          "name": "stdout",
          "text": [
            "There are 7 types of airports\n"
          ]
        }
      ]
    },
    {
      "cell_type": "code",
      "source": [
        "c=0\n",
        "for i in df['type']:\n",
        "  if (i=='heliport'):\n",
        "    c+=1\n",
        "print('there are ',c,'heliports')"
      ],
      "metadata": {
        "colab": {
          "base_uri": "https://localhost:8080/"
        },
        "id": "43DOtLSRkuua",
        "outputId": "218c71b6-e311-4bff-ecaa-b727c2336b96"
      },
      "execution_count": 62,
      "outputs": [
        {
          "output_type": "stream",
          "name": "stdout",
          "text": [
            "there are  18931 heliports\n"
          ]
        }
      ]
    },
    {
      "cell_type": "code",
      "source": [
        "c=0\n",
        "for i in df['scheduled_service']:\n",
        "  if (i=='no'):\n",
        "    c+=1\n",
        "print('there are ',c,'shut ', end='')\n",
        "\n",
        "op=0\n",
        "for i in df['scheduled_service']:\n",
        "  if (i=='yes'):\n",
        "    op+=1\n",
        "print('and',op,'open airports')"
      ],
      "metadata": {
        "colab": {
          "base_uri": "https://localhost:8080/"
        },
        "id": "_igsfrVjmDSZ",
        "outputId": "785e2dd2-cbdf-438a-cfc6-87333d0bc423"
      },
      "execution_count": 63,
      "outputs": [
        {
          "output_type": "stream",
          "name": "stdout",
          "text": [
            "there are  70273 shut and 4190 open airports\n"
          ]
        }
      ]
    },
    {
      "cell_type": "code",
      "source": [
        "print(float(op/(c+op)*100),'percent airports are open')"
      ],
      "metadata": {
        "colab": {
          "base_uri": "https://localhost:8080/"
        },
        "id": "dnZYvouoqoBI",
        "outputId": "449368b7-b917-4d2f-ec14-7c3736f35800"
      },
      "execution_count": 64,
      "outputs": [
        {
          "output_type": "stream",
          "name": "stdout",
          "text": [
            "5.626955669258558 percent airports are open\n"
          ]
        }
      ]
    },
    {
      "cell_type": "code",
      "source": [
        "c\n"
      ],
      "metadata": {
        "colab": {
          "base_uri": "https://localhost:8080/"
        },
        "id": "S1hivWlDpOif",
        "outputId": "2c5a59f2-feea-41d5-9677-4110f191664c"
      },
      "execution_count": 65,
      "outputs": [
        {
          "output_type": "execute_result",
          "data": {
            "text/plain": [
              "70273"
            ]
          },
          "metadata": {},
          "execution_count": 65
        }
      ]
    },
    {
      "cell_type": "code",
      "source": [
        "op"
      ],
      "metadata": {
        "colab": {
          "base_uri": "https://localhost:8080/"
        },
        "id": "Aa3oY-kAptmh",
        "outputId": "b36819b1-c834-4fa2-fa4d-40a427fbf508"
      },
      "execution_count": 66,
      "outputs": [
        {
          "output_type": "execute_result",
          "data": {
            "text/plain": [
              "4190"
            ]
          },
          "metadata": {},
          "execution_count": 66
        }
      ]
    },
    {
      "cell_type": "code",
      "source": [
        "float(op/(c+op)*100)"
      ],
      "metadata": {
        "colab": {
          "base_uri": "https://localhost:8080/"
        },
        "id": "DLZdv92WpwNI",
        "outputId": "4dbbcc8d-66cd-4c5d-8f82-5cfdc1f5b602"
      },
      "execution_count": 67,
      "outputs": [
        {
          "output_type": "execute_result",
          "data": {
            "text/plain": [
              "5.626955669258558"
            ]
          },
          "metadata": {},
          "execution_count": 67
        }
      ]
    },
    {
      "cell_type": "code",
      "source": [
        "df['continent'].unique()"
      ],
      "metadata": {
        "colab": {
          "base_uri": "https://localhost:8080/"
        },
        "id": "TAjuSqTRqAaJ",
        "outputId": "756b04b8-1fd7-443d-837e-93d16d011615"
      },
      "execution_count": 68,
      "outputs": [
        {
          "output_type": "execute_result",
          "data": {
            "text/plain": [
              "array([nan, 'OC', 'AF', 'AN', 'EU', 'AS', 'SA'], dtype=object)"
            ]
          },
          "metadata": {},
          "execution_count": 68
        }
      ]
    },
    {
      "cell_type": "code",
      "source": [
        "for name in df['continent'].unique():\n",
        "  ct=0\n",
        "  for i in df['continent']:\n",
        "    if(i==name):\n",
        "      ct+=1\n",
        "  print(name,\":\",ct)"
      ],
      "metadata": {
        "colab": {
          "base_uri": "https://localhost:8080/"
        },
        "id": "NKdaL6h-sPQT",
        "outputId": "33613e17-a046-49f6-e396-2bbe96780c09"
      },
      "execution_count": 69,
      "outputs": [
        {
          "output_type": "stream",
          "name": "stdout",
          "text": [
            "nan : 0\n",
            "OC : 3777\n",
            "AF : 3963\n",
            "AN : 43\n",
            "EU : 9820\n",
            "AS : 10740\n",
            "SA : 10093\n"
          ]
        }
      ]
    },
    {
      "cell_type": "code",
      "source": [
        "continent= {}\n",
        "\n",
        "for name in df['continent'].unique():\n",
        " ct=0\n",
        " for i in df['continent']:\n",
        "    if(i==name):\n",
        "      ct+=1\n",
        " continent[name]=ct"
      ],
      "metadata": {
        "id": "PoaJNJlhuaFu"
      },
      "execution_count": 76,
      "outputs": []
    },
    {
      "cell_type": "code",
      "source": [
        "print(continent)"
      ],
      "metadata": {
        "colab": {
          "base_uri": "https://localhost:8080/"
        },
        "id": "UmQj5t2Syg5d",
        "outputId": "6eedee3a-ccb6-4c9f-e7e8-4197346c0f28"
      },
      "execution_count": 81,
      "outputs": [
        {
          "output_type": "stream",
          "name": "stdout",
          "text": [
            "{nan: 0, 'OC': 3777, 'AF': 3963, 'AN': 43, 'EU': 9820, 'AS': 10740, 'SA': 10093}\n"
          ]
        }
      ]
    },
    {
      "cell_type": "code",
      "source": [
        "continent['EU']"
      ],
      "metadata": {
        "colab": {
          "base_uri": "https://localhost:8080/"
        },
        "id": "hwQawjcyv7g2",
        "outputId": "6ff7cd80-81c4-4cf0-aa6b-55bce4255e44"
      },
      "execution_count": 77,
      "outputs": [
        {
          "output_type": "execute_result",
          "data": {
            "text/plain": [
              "9820"
            ]
          },
          "metadata": {},
          "execution_count": 77
        }
      ]
    },
    {
      "cell_type": "code",
      "source": [
        "scheduled_service={}\n",
        "\n",
        "for name in df['scheduled_service'].unique():\n",
        " ct=0\n",
        " for i in df['scheduled_service']:\n",
        "    if(i==name):\n",
        "      ct+=1\n",
        " scheduled_service[name]=ct\n",
        "print(scheduled_service)"
      ],
      "metadata": {
        "colab": {
          "base_uri": "https://localhost:8080/"
        },
        "id": "dQP4Wm0ywHph",
        "outputId": "bada037e-3ede-49a1-e385-88bd96eab121"
      },
      "execution_count": 80,
      "outputs": [
        {
          "output_type": "stream",
          "name": "stdout",
          "text": [
            "{'no': 70273, 'yes': 4190}\n"
          ]
        }
      ]
    },
    {
      "cell_type": "code",
      "source": [
        "df['elevation_ft'].describe()"
      ],
      "metadata": {
        "colab": {
          "base_uri": "https://localhost:8080/"
        },
        "id": "0fA-ily1x-Nl",
        "outputId": "b277510d-e0e1-487b-8a79-3086da7c7cb0"
      },
      "execution_count": 82,
      "outputs": [
        {
          "output_type": "execute_result",
          "data": {
            "text/plain": [
              "count    60256.000000\n",
              "mean      1301.607906\n",
              "std       1674.365090\n",
              "min      -1266.000000\n",
              "25%        203.750000\n",
              "50%        730.000000\n",
              "75%       1614.000000\n",
              "max      17372.000000\n",
              "Name: elevation_ft, dtype: float64"
            ]
          },
          "metadata": {},
          "execution_count": 82
        }
      ]
    },
    {
      "cell_type": "code",
      "source": [
        "df['scheduled_service'].describe()"
      ],
      "metadata": {
        "colab": {
          "base_uri": "https://localhost:8080/"
        },
        "id": "i0EaLn9sy_ft",
        "outputId": "aa68825a-bee8-4c25-fa91-ea6a8ac64c5f"
      },
      "execution_count": 83,
      "outputs": [
        {
          "output_type": "execute_result",
          "data": {
            "text/plain": [
              "count     74463\n",
              "unique        2\n",
              "top          no\n",
              "freq      70273\n",
              "Name: scheduled_service, dtype: object"
            ]
          },
          "metadata": {},
          "execution_count": 83
        }
      ]
    },
    {
      "cell_type": "code",
      "source": [
        "#describe() gives overall description of the particular column of dataset"
      ],
      "metadata": {
        "id": "B18kjYBxzPYm"
      },
      "execution_count": 84,
      "outputs": []
    }
  ]
}