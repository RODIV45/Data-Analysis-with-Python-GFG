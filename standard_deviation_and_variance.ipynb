{
  "nbformat": 4,
  "nbformat_minor": 0,
  "metadata": {
    "colab": {
      "provenance": [],
      "authorship_tag": "ABX9TyN+BvZrG2gHEwzI+WilqaYh",
      "include_colab_link": true
    },
    "kernelspec": {
      "name": "python3",
      "display_name": "Python 3"
    },
    "language_info": {
      "name": "python"
    }
  },
  "cells": [
    {
      "cell_type": "markdown",
      "metadata": {
        "id": "view-in-github",
        "colab_type": "text"
      },
      "source": [
        "<a href=\"https://colab.research.google.com/github/RODIV45/Data-Analysis-with-Python-GFG/blob/main/standard_deviation_and_variance.ipynb\" target=\"_parent\"><img src=\"https://colab.research.google.com/assets/colab-badge.svg\" alt=\"Open In Colab\"/></a>"
      ]
    },
    {
      "cell_type": "code",
      "execution_count": 1,
      "metadata": {
        "id": "jdszf6aXc2KY"
      },
      "outputs": [],
      "source": [
        "import numpy as np"
      ]
    },
    {
      "cell_type": "code",
      "source": [
        "#standard deviation is the sqaure root of squares of all the (values -mean) divided by no of observations\n",
        "marks=np.array([23,4,5,66,77,45,55,21,19,18])\n",
        "k=np.array([9,5,8,2,6])\n",
        "print(marks.mean())\n",
        "print(k.mean())"
      ],
      "metadata": {
        "colab": {
          "base_uri": "https://localhost:8080/"
        },
        "id": "fy-dBHnFdCwd",
        "outputId": "0e915096-f331-456c-9ff7-b8332892d46a"
      },
      "execution_count": 5,
      "outputs": [
        {
          "output_type": "stream",
          "name": "stdout",
          "text": [
            "33.3\n",
            "6.0\n"
          ]
        }
      ]
    },
    {
      "cell_type": "code",
      "source": [
        "np.mean(marks)"
      ],
      "metadata": {
        "colab": {
          "base_uri": "https://localhost:8080/"
        },
        "id": "gQtLWaetjD2E",
        "outputId": "7b476003-a8a0-4f75-9a99-140f61b392f8"
      },
      "execution_count": 9,
      "outputs": [
        {
          "output_type": "execute_result",
          "data": {
            "text/plain": [
              "33.3"
            ]
          },
          "metadata": {},
          "execution_count": 9
        }
      ]
    },
    {
      "cell_type": "code",
      "source": [
        "np.mean(k)"
      ],
      "metadata": {
        "colab": {
          "base_uri": "https://localhost:8080/"
        },
        "id": "Y5JYwEjQjxC8",
        "outputId": "f9ccdfc8-908d-4446-8fba-2c08f7c34acc"
      },
      "execution_count": 10,
      "outputs": [
        {
          "output_type": "execute_result",
          "data": {
            "text/plain": [
              "6.0"
            ]
          },
          "metadata": {},
          "execution_count": 10
        }
      ]
    },
    {
      "cell_type": "code",
      "source": [
        "def standard_dev(arr):\n",
        "    mean=arr.mean()\n",
        "    final_val=0\n",
        "    for i in arr:\n",
        "            val=(i-mean)**2\n",
        "            final_val+=val\n",
        "    return (final_val/len(arr))**0.5\n"
      ],
      "metadata": {
        "id": "z634X74njznj"
      },
      "execution_count": 51,
      "outputs": []
    },
    {
      "cell_type": "code",
      "source": [
        "standard_dev(k)"
      ],
      "metadata": {
        "colab": {
          "base_uri": "https://localhost:8080/"
        },
        "id": "jhSi52epuDya",
        "outputId": "bb1d3953-57dd-4714-c125-f25a26207878"
      },
      "execution_count": 52,
      "outputs": [
        {
          "output_type": "execute_result",
          "data": {
            "text/plain": [
              "2.449489742783178"
            ]
          },
          "metadata": {},
          "execution_count": 52
        }
      ]
    },
    {
      "cell_type": "code",
      "source": [
        "standard_dev(marks)"
      ],
      "metadata": {
        "colab": {
          "base_uri": "https://localhost:8080/"
        },
        "id": "Qsr3TkceuXh5",
        "outputId": "afc3a40e-45b4-4a4d-c84e-f1d5ccadbec7"
      },
      "execution_count": 53,
      "outputs": [
        {
          "output_type": "execute_result",
          "data": {
            "text/plain": [
              "24.376423035384008"
            ]
          },
          "metadata": {},
          "execution_count": 53
        }
      ]
    },
    {
      "cell_type": "code",
      "source": [
        "variance=standard_dev(k)**2"
      ],
      "metadata": {
        "id": "KoC8DLW9u3-A"
      },
      "execution_count": 58,
      "outputs": []
    },
    {
      "cell_type": "code",
      "source": [
        "variance  #VARIANCE IS SQUARE VALUE OF STANDARD DEVIATION "
      ],
      "metadata": {
        "colab": {
          "base_uri": "https://localhost:8080/"
        },
        "id": "2RnM36eJu73v",
        "outputId": "114eb655-87d6-4ec9-f070-9d845b8dd95c"
      },
      "execution_count": 60,
      "outputs": [
        {
          "output_type": "execute_result",
          "data": {
            "text/plain": [
              "5.999999999999999"
            ]
          },
          "metadata": {},
          "execution_count": 60
        }
      ]
    },
    {
      "cell_type": "code",
      "source": [
        "#NORMAL DISTRIBUTION? and its FACTS?\n",
        "#when probablity distribution of continious data reusults in a curve of shape like bell shaped or lorentz curve.\n",
        "# then we say that data is in NORMAL DISTRIBUTION\n",
        "#THE CENTER OF THE CURVE ABOUT WHICH THE GRAOH IS SYMMETRICAL PR THE MAXIMA OF LORENTZ CURVE IS REPRESENTING the mode=median=mean\n",
        "#68% of the total area of lorentz curve shape like from point of (mean - standard deviation) to (mean+sd) \n",
        "#this total rectangular area constitutes the standard deviation\n",
        "#95% of total curve area lies between POINTS (mean - 2SD) to (mean+2SD).\n",
        "#99.7% of total curve area lies between points (mean-3sd) to (mean+3sd)"
      ],
      "metadata": {
        "id": "gKE96ggTvumc"
      },
      "execution_count": null,
      "outputs": []
    }
  ]
}